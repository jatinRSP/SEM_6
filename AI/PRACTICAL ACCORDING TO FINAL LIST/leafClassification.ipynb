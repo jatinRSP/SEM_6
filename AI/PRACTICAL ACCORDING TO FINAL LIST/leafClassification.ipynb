{
 "cells": [
  {
   "cell_type": "code",
   "execution_count": null,
   "metadata": {},
   "outputs": [],
   "source": [
    "import tensorflow as tf\n",
    "import matplotlib.pyplot as plt\n",
    "from keras.models import Sequential\n",
    "from keras import layers,models\n",
    "from keras.utils import to_categorical"
   ]
  },
  {
   "cell_type": "code",
   "execution_count": null,
   "metadata": {},
   "outputs": [],
   "source": [
    "data_dir = 'F:/PDEU/SEM_6/AI/PRACTICAL ACCORDING TO FINAL LIST/Dataset1'"
   ]
  },
  {
   "cell_type": "code",
   "execution_count": null,
   "metadata": {},
   "outputs": [],
   "source": [
    "# load dataset\n",
    "\n",
    "import os\n",
    "import numpy as np\n",
    "from keras.preprocessing.image import load_img\n",
    "from keras.preprocessing.image import img_to_array\n",
    "\n",
    "\n",
    "images = []\n",
    "labels = []\n",
    "\n",
    "for directory in os.listdir(data_dir):\n",
    "    path = data_dir + '/' + directory\n",
    "    for file in os.listdir(path):\n",
    "        img = load_img(path + '/' + file, target_size=(128,128))\n",
    "        img_array = img_to_array(img)\n",
    "        images.append(img_array)\n",
    "        labels.append(directory)\n",
    "\n",
    "# show all the labels\n",
    "print(set(labels))\n",
    "\n",
    "# print size of data\n",
    "print('Number of images: ', len(images))\n",
    "\n",
    "# Show all images in 3*4 matrix\n",
    "plt.figure(figsize=(12, 9))\n",
    "for i in range(12):\n",
    "    plt.subplot(3,4,i+1)\n",
    "    plt.imshow(images[i]/255)\n",
    "    plt.title(labels[i])\n",
    "    plt.axis('off')"
   ]
  },
  {
   "cell_type": "code",
   "execution_count": null,
   "metadata": {},
   "outputs": [],
   "source": [
    "# Define mapping of labels to numerical values\n",
    "label_mapping = {'CORN': 0, 'POTATO': 1, 'TOMATO': 2}\n",
    "\n",
    "# Convert labels to numerical values using the label mapping\n",
    "labels_numeric = np.array([label_mapping[label] for label in labels])\n",
    "\n",
    "# Convert images to numpy array\n",
    "images_np = np.array(images)\n",
    "\n",
    "# Show all the unique labels\n",
    "print(\"Unique Labels:\", np.unique(labels_numeric))\n",
    "\n",
    "# Print the size of the data\n",
    "print('Number of images:', len(images_np))\n",
    "\n",
    "# Show all images in a 3x4 matrix\n",
    "plt.figure(figsize=(12, 9))\n",
    "for i in range(12):\n",
    "    plt.subplot(3, 4, i+1)\n",
    "    plt.imshow(images_np[i]/255)  # Normalize pixel values to [0, 1]\n",
    "    plt.title(labels_numeric[i])\n",
    "    plt.axis('off')\n",
    "\n",
    "plt.show()"
   ]
  },
  {
   "cell_type": "code",
   "execution_count": null,
   "metadata": {},
   "outputs": [],
   "source": [
    "# Convert images and labels to numpy arrays\n",
    "x = np.array(images_np)\n",
    "y = np.array(labels_numeric)\n",
    "\n",
    "# Normalize the pixel values to the range [0, 1]\n",
    "x = x / 255.0\n",
    "\n",
    "# Define the ratio for train-test split (e.g., 80% train, 20% test)\n",
    "train_ratio = 0.8\n",
    "test_ratio = 1 - train_ratio\n",
    "\n",
    "# Calculate the number of samples for train and test sets\n",
    "num_samples = len(x)\n",
    "num_train_samples = int(train_ratio * num_samples)\n",
    "num_test_samples = num_samples - num_train_samples\n",
    "\n",
    "# Shuffle the data\n",
    "indices = np.arange(num_samples)\n",
    "np.random.shuffle(indices)\n",
    "x_shuffled = x[indices]\n",
    "y_shuffled = y[indices]\n",
    "\n",
    "# Split the data into train and test sets\n",
    "x_train = x_shuffled[:num_train_samples]\n",
    "y_train = y_shuffled[:num_train_samples]\n",
    "x_test = x_shuffled[num_train_samples:]\n",
    "y_test = y_shuffled[num_train_samples:]\n",
    "\n",
    "# Print the shapes of the resulting arrays\n",
    "print(\"Shape of x_train:\", x_train.shape)\n",
    "print(\"Shape of y_train:\", y_train.shape)\n",
    "print(\"Shape of x_test:\", x_test.shape)\n",
    "print(\"Shape of y_test:\", y_test.shape)"
   ]
  },
  {
   "cell_type": "code",
   "execution_count": null,
   "metadata": {},
   "outputs": [],
   "source": [
    "print(y_test)"
   ]
  },
  {
   "cell_type": "code",
   "execution_count": null,
   "metadata": {},
   "outputs": [],
   "source": [
    "# Define the model\n",
    "model = Sequential()\n",
    "\n",
    "# Add convolutional layers\n",
    "model.add(layers.Conv2D(32, (3, 3), activation='relu', input_shape=(128, 128, 3)))\n",
    "model.add(layers.MaxPooling2D((2, 2)))\n",
    "model.add(layers.Conv2D(64, (3, 3), activation='relu'))\n",
    "model.add(layers.MaxPooling2D((2, 2)))\n",
    "model.add(layers.Conv2D(128, (3, 3), activation='relu'))\n",
    "model.add(layers.MaxPooling2D((2, 2)))\n",
    "\n",
    "# Flatten the output of the convolutional layers\n",
    "model.add(layers.Flatten())\n",
    "\n",
    "# Add fully connected layers\n",
    "model.add(layers.Dense(128, activation='relu'))\n",
    "model.add(layers.Dense(3, activation='softmax'))  # 3 output classes\n",
    "\n",
    "# Compile the model\n",
    "model.compile(optimizer='adam', loss='categorical_crossentropy', metrics=['accuracy'])\n",
    "\n",
    "# Train the model\n",
    "history = model.fit(x_train, to_categorical(y_train), epochs=10, batch_size=32, validation_split=0.2)"
   ]
  },
  {
   "cell_type": "code",
   "execution_count": null,
   "metadata": {},
   "outputs": [],
   "source": [
    "# predict\n",
    "\n",
    "# Predict the labels for the test set\n",
    "y_pred = model.predict(x_test)\n",
    "\n",
    "# Convert the predicted labels to the corresponding numerical values\n",
    "y_pred_numeric = np.argmax(y_pred, axis=1)\n",
    "\n",
    "print(y_pred_numeric)"
   ]
  }
 ],
 "metadata": {
  "kernelspec": {
   "display_name": "Python 3",
   "language": "python",
   "name": "python3"
  },
  "language_info": {
   "codemirror_mode": {
    "name": "ipython",
    "version": 3
   },
   "file_extension": ".py",
   "mimetype": "text/x-python",
   "name": "python",
   "nbconvert_exporter": "python",
   "pygments_lexer": "ipython3",
   "version": "3.10.0"
  }
 },
 "nbformat": 4,
 "nbformat_minor": 2
}
